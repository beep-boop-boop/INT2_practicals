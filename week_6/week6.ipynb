{
 "cells": [
  {
   "cell_type": "code",
   "execution_count": 1,
   "metadata": {},
   "outputs": [],
   "source": [
    "import numpy as np\n",
    "import matplotlib.pyplot as plt\n",
    "from perceptron import *"
   ]
  },
  {
   "cell_type": "code",
   "execution_count": 15,
   "metadata": {},
   "outputs": [],
   "source": [
    "def perceptron_through_origin(data, labels, params={}, hook=None):\n",
    "    \"\"\"The Perceptron learning algorithm.\n",
    "\n",
    "    :param data: A d x n matrix where d is the number of data dimensions and n the number of examples.\n",
    "    :param labels: A 1 x n matrix with the label (actual value) for each data point.\n",
    "    :param params: A dict, containing a key T, which is a positive integer number of steps to run\n",
    "    :param hook: An optional hook function that is called in each iteration of the algorithm.\n",
    "    :return:\n",
    "    \"\"\"\n",
    "    T = params.get('T', 100)  # if T is not in params, default to 100\n",
    "    (d, n) = data.shape\n",
    "    theta = np.zeros((d, 1))\n",
    "    theta_0 = 0\n",
    "    for _ in range(T):\n",
    "        if hook : hook((theta, theta_0))\n",
    "        print(theta)\n",
    "        for index, entry in enumerate(data.T):\n",
    "            if labels[index] * linear_classify(entry, theta, theta_0) <= 0:\n",
    "                print(\"mistake\")\n",
    "                theta = np.add(theta, (labels[index] * entry.reshape(d, 1)))\n",
    "                print(theta)\n",
    "                \n",
    "    return theta"
   ]
  },
  {
   "cell_type": "code",
   "execution_count": 16,
   "metadata": {},
   "outputs": [
    {
     "name": "stdout",
     "output_type": "stream",
     "text": [
      "[[0.]\n",
      " [0.]\n",
      " [0.]]\n",
      "mistake\n",
      "[[-2.]\n",
      " [ 0.]\n",
      " [-1.]]\n",
      "mistake\n",
      "[[-2.]\n",
      " [ 2.]\n",
      " [ 0.]]\n",
      "mistake\n",
      "[[-1.]\n",
      " [ 3.]\n",
      " [-1.]]\n",
      "[[-1.]\n",
      " [ 3.]\n",
      " [-1.]]\n"
     ]
    },
    {
     "data": {
      "text/plain": [
       "array([[-1.],\n",
       "       [ 3.],\n",
       "       [-1.]])"
      ]
     },
     "execution_count": 16,
     "metadata": {},
     "output_type": "execute_result"
    }
   ],
   "source": [
    "X = np.array([[2, 0, -1],\n",
    "            [0, 2, -1]])\n",
    "y = np.array([-1, 1, -1])\n",
    "\n",
    "\n",
    "th = perceptron_through_origin(np.append(X, np.ones((1, X.shape[1])), axis = 0), y, params = {'T' : 2})\n",
    "th\n",
    "#th1, th0 = perceptron(X, y)\n",
    "\n",
    "#print(f\"original hypothesis: \\n\\ttheta = {th1.ravel()}, \\n\\ttheta zero = {th0}.\\nNew hypothesis (through origin): \\n\\ttheta = {th.ravel()}\")\n"
   ]
  },
  {
   "cell_type": "code",
   "execution_count": null,
   "metadata": {},
   "outputs": [],
   "source": []
  },
  {
   "cell_type": "code",
   "execution_count": 4,
   "metadata": {},
   "outputs": [],
   "source": [
    "def poly_powers(order):\n",
    "    \"\"\"\n",
    "    Returns all powers for a polynomial of a given order.\n",
    "    For example, if order is 2 (a, b), will return the powers for a and b to make [1, a, b, a^2, ab, b^2]\n",
    "    \"\"\"\n",
    "    return [(k - i, i) for k in range(order + 1) for i in range(k + 1)]"
   ]
  },
  {
   "cell_type": "code",
   "execution_count": 5,
   "metadata": {},
   "outputs": [],
   "source": [
    "def poly_transform_single(x, k):\n",
    "    return np.array([((x[0] ** power[0]) * (x[1] ** power[1])) for power in poly_powers(k)])"
   ]
  },
  {
   "cell_type": "code",
   "execution_count": 6,
   "metadata": {},
   "outputs": [],
   "source": [
    "def transform_polynomial_basis(X, k):\n",
    "    if k not in range(5):\n",
    "        raise ValueError(\"k can only be between 0 and 4\")\n",
    "    if X.shape[0] != 2:\n",
    "        raise ValueError(\"X must be a 2 - dimensional array\")\n",
    "    output = np.zeros((len(poly_powers(k)), X.shape[1]), dtype = float)\n",
    "    for i in range(output.shape[1]):\n",
    "        output[:,i] = poly_transform_single(X[:,i], k)\n",
    "    return output"
   ]
  },
  {
   "cell_type": "code",
   "execution_count": 7,
   "metadata": {},
   "outputs": [
    {
     "data": {
      "text/plain": [
       "(array([[ 2,  3,  9, 12],\n",
       "        [ 5,  2,  6,  5]]),\n",
       " array([[    1.,     1.,     1.,     1.],\n",
       "        [    2.,     3.,     9.,    12.],\n",
       "        [    5.,     2.,     6.,     5.],\n",
       "        [    4.,     9.,    81.,   144.],\n",
       "        [   10.,     6.,    54.,    60.],\n",
       "        [   25.,     4.,    36.,    25.],\n",
       "        [    8.,    27.,   729.,  1728.],\n",
       "        [   20.,    18.,   486.,   720.],\n",
       "        [   50.,    12.,   324.,   300.],\n",
       "        [  125.,     8.,   216.,   125.],\n",
       "        [   16.,    81.,  6561., 20736.],\n",
       "        [   40.,    54.,  4374.,  8640.],\n",
       "        [  100.,    36.,  2916.,  3600.],\n",
       "        [  250.,    24.,  1944.,  1500.],\n",
       "        [  625.,    16.,  1296.,   625.]]))"
      ]
     },
     "execution_count": 7,
     "metadata": {},
     "output_type": "execute_result"
    }
   ],
   "source": [
    "np.set_printoptions(suppress=True)\n",
    "X, transform_polynomial_basis(X, 4)"
   ]
  },
  {
   "cell_type": "code",
   "execution_count": 8,
   "metadata": {},
   "outputs": [
    {
     "data": {
      "text/plain": [
       "((array([[-24.],\n",
       "         [ 37.]]),\n",
       "  -3),\n",
       " array([[ -3.],\n",
       "        [-24.],\n",
       "        [ 37.]]))"
      ]
     },
     "execution_count": 8,
     "metadata": {},
     "output_type": "execute_result"
    }
   ],
   "source": [
    "perceptron(X, y), perceptron_through_origin(transform_polynomial_basis(X, 1), y)"
   ]
  },
  {
   "cell_type": "code",
   "execution_count": 9,
   "metadata": {},
   "outputs": [],
   "source": [
    "def transform_polynomial_basis(data, order):\n",
    "    from itertools import combinations_with_replacement as nCr\n",
    "    from functools import reduce, partial\n",
    "    from operator import mul\n",
    "    def poly_basis(vector, order):\n",
    "        print(vector)\n",
    "        times = partial(reduce, mul)\n",
    "        out = [1]\n",
    "        for o in range(1, order+1):\n",
    "            out.extend(list(map(times, nCr(vector, o))))\n",
    "        return np.array(out).T\n",
    "    out = []\n",
    "    for vector in data.T:\n",
    "        out.append(poly_basis(vector, order))\n",
    "    return out"
   ]
  },
  {
   "cell_type": "code",
   "execution_count": 10,
   "metadata": {},
   "outputs": [
    {
     "name": "stdout",
     "output_type": "stream",
     "text": [
      "[2 5]\n",
      "[3 2]\n",
      "[9 6]\n",
      "[12  5]\n"
     ]
    },
    {
     "data": {
      "text/plain": [
       "[array([ 1,  2,  5,  4, 10, 25]),\n",
       " array([1, 3, 2, 9, 6, 4]),\n",
       " array([ 1,  9,  6, 81, 54, 36]),\n",
       " array([  1,  12,   5, 144,  60,  25])]"
      ]
     },
     "execution_count": 10,
     "metadata": {},
     "output_type": "execute_result"
    }
   ],
   "source": [
    "transform_polynomial_basis(X, 2)"
   ]
  }
 ],
 "metadata": {
  "interpreter": {
   "hash": "3b79c34c0bc451fa60e640cef16a699410f160f3627e84908fe4a419d6ecde43"
  },
  "kernelspec": {
   "display_name": "Python 3.9.6 64-bit",
   "language": "python",
   "name": "python3"
  },
  "language_info": {
   "codemirror_mode": {
    "name": "ipython",
    "version": 3
   },
   "file_extension": ".py",
   "mimetype": "text/x-python",
   "name": "python",
   "nbconvert_exporter": "python",
   "pygments_lexer": "ipython3",
   "version": "3.9.6"
  },
  "orig_nbformat": 4
 },
 "nbformat": 4,
 "nbformat_minor": 2
}
