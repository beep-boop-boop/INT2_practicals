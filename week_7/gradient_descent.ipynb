{
 "cells": [
  {
   "cell_type": "code",
   "execution_count": 8,
   "metadata": {},
   "outputs": [],
   "source": [
    "import numpy as np\n",
    "import matplotlib.pyplot as plt\n",
    "import imageio"
   ]
  },
  {
   "cell_type": "code",
   "execution_count": 9,
   "metadata": {},
   "outputs": [],
   "source": [
    "def f1(x):\n",
    "    return float((3 * x + 4) ** 2)\n",
    "\n",
    "def f2(x):\n",
    "    return float ((x ** 6) + (x ** 5) - (x ** 4) + (x ** 3) - x)"
   ]
  },
  {
   "cell_type": "code",
   "execution_count": 10,
   "metadata": {},
   "outputs": [],
   "source": [
    "def df1(x):\n",
    "    return float(18 * x + 24)\n",
    "\n",
    "def df2(x):\n",
    "    return float ((6 * (x ** 5)) + (5 * (x ** 4)) - (4 * (x ** 3)) + (3 * (x ** 2))- 1)"
   ]
  },
  {
   "cell_type": "code",
   "execution_count": 11,
   "metadata": {},
   "outputs": [],
   "source": [
    "def gradient_descent(f, df, x0, step_size, max_iter):\n",
    "    x = x0\n",
    "    steps = 0\n",
    "    while (abs(step_size * df(x)) > 0.000001) and steps <= max_iter: # loop until the function converges or maximum number of iterations is exceeded\n",
    "        x = x - (step_size * df(x))\n",
    "        steps += 1\n",
    "    print(f\"converged after {steps} steps\")\n",
    "    return x"
   ]
  },
  {
   "cell_type": "code",
   "execution_count": 12,
   "metadata": {},
   "outputs": [
    {
     "name": "stdout",
     "output_type": "stream",
     "text": [
      "converged after 663 steps\n"
     ]
    },
    {
     "data": {
      "text/plain": [
       "-1.333278385170145"
      ]
     },
     "execution_count": 12,
     "metadata": {},
     "output_type": "execute_result"
    }
   ],
   "source": [
    "gradient_descent(f1, df1, 8, 0.001, 1000)"
   ]
  },
  {
   "cell_type": "code",
   "execution_count": 13,
   "metadata": {},
   "outputs": [
    {
     "data": {
      "text/plain": [
       "<Figure size 432x288 with 0 Axes>"
      ]
     },
     "metadata": {},
     "output_type": "display_data"
    }
   ],
   "source": [
    "def descent_animated(f, df, x0, step_size, max_iter, X, filename):\n",
    "    \"\"\"\n",
    "    Plots a function and applies gradient descent, representing the current guess with a red line.\n",
    "    Args:\n",
    "        f : the function to apply gradient descent on\n",
    "        df : the derivative of f\n",
    "        x0 : starting guess for the gradient descent algo\n",
    "        step_size : eta, controls how big the steps between guesses are\n",
    "        max_iter : number of iterations after which the plotting is stopped, regardless of whether the algorithm has converged\n",
    "        X : the range of x values for the function to be plotted over\n",
    "        filename : the filename for the output file (gif)\n",
    "    \"\"\"\n",
    "    images = []\n",
    "    steps = 0\n",
    "    x = x0\n",
    "    y = [f(x) for x in X]\n",
    "    plt.plot(X, y)\n",
    "    while (abs(step_size * df(x)) > 0.000001) and steps <= max_iter: # loop until the function converges or maximum number of iterations is exceeded\n",
    "        x = x - (step_size * df(x))\n",
    "        line = plt.plot([x] * len(y), y, color = 'r', alpha = 0.5, label = f\"Current x value: {x}\")\n",
    "        text = plt.text(min(X), max(y), f\"Current value of x:{x}\\nStep no: {steps}\")\n",
    "        steps += 1\n",
    "        plt.savefig(\"out.png\")\n",
    "        images.append(imageio.imread(\"out.png\"))\n",
    "        line.pop(0).remove()\n",
    "        text.remove()\n",
    "    imageio.mimsave(filename + \".gif\", images)\n",
    "    plt.clf()\n",
    "descent_animated(f2, df2, 1, 0.1, 100, np.linspace(-2, 1.3), f\"test\")\n",
    "\n",
    "#for step in [0.1, 0.01, 0.001, 0.0001]:\n",
    "#    descent_animated(f2, df2, 1, step, 100, np.linspace(-2, 1.3), f\"f2_eta={step}\")\n",
    "#    descent_animated(f2, df2, -1, step, 100, np.linspace(-2, 1.3), f\"f2_1_eta={step}\")"
   ]
  },
  {
   "cell_type": "code",
   "execution_count": 15,
   "metadata": {},
   "outputs": [
    {
     "data": {
      "text/plain": [
       "[<matplotlib.lines.Line2D at 0x2669a043460>]"
      ]
     },
     "execution_count": 15,
     "metadata": {},
     "output_type": "execute_result"
    },
    {
     "data": {
      "image/png": "[encoded data removed]",
      "text/plain": [
       "<Figure size 432x288 with 1 Axes>"
      ]
     },
     "metadata": {
      "needs_background": "light"
     },
     "output_type": "display_data"
    }
   ],
   "source": [
    "X = np.linspace(-12, 10)\n",
    "y = [f1(x) for x in X]\n",
    "plt.plot(X, y)"
   ]
  },
  {
   "cell_type": "markdown",
   "metadata": {},
   "source": [
    "## The function $(3x + 4) ^ 2$ is convex, meaning that there exists a step size at which the gradient descent will converge to within a certain range of the minimum"
   ]
  },
  {
   "cell_type": "markdown",
   "metadata": {},
   "source": []
  }
 ],
 "metadata": {
  "interpreter": {
   "hash": "0a10e5ae12d6e7b14b9a3c5ea75d6bb84ef6a3a35926aa93321436627619946d"
  },
  "kernelspec": {
   "display_name": "Python 3.9.6 64-bit",
   "language": "python",
   "name": "python3"
  },
  "language_info": {
   "codemirror_mode": {
    "name": "ipython",
    "version": 3
   },
   "file_extension": ".py",
   "mimetype": "text/x-python",
   "name": "python",
   "nbconvert_exporter": "python",
   "pygments_lexer": "ipython3",
   "version": "3.9.6"
  },
  "orig_nbformat": 4
 },
 "nbformat": 4,
 "nbformat_minor": 2
}
