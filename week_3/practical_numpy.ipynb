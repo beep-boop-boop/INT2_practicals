{
 "cells": [
  {
   "cell_type": "code",
   "execution_count": 2,
   "metadata": {},
   "outputs": [],
   "source": [
    "import numpy as np"
   ]
  },
  {
   "cell_type": "code",
   "execution_count": 3,
   "metadata": {},
   "outputs": [
    {
     "data": {
      "text/plain": [
       "(array([[26]]),\n",
       " array([[ 6,  0,  8],\n",
       "        [ 9,  0, 12],\n",
       "        [15,  0, 20]]))"
      ]
     },
     "execution_count": 3,
     "metadata": {},
     "output_type": "execute_result"
    }
   ],
   "source": [
    "x = np.array(\n",
    "    [\n",
    "        [2], \n",
    "        [3], \n",
    "        [5]\n",
    "    ]\n",
    ")\n",
    "y = np.array(\n",
    "    [\n",
    "        [3], \n",
    "        [0], \n",
    "        [4]\n",
    "    ]\n",
    "    )\n",
    "\n",
    "np.dot(x.T, y), np.dot(x, y.T)"
   ]
  },
  {
   "cell_type": "code",
   "execution_count": 4,
   "metadata": {},
   "outputs": [],
   "source": [
    "B = np.array(\n",
    "    [\n",
    "        [3, 2, 0],\n",
    "        [0, 4, 2],\n",
    "        [5, 0, 1],\n",
    "        [1, 3, 4]\n",
    "    ]\n",
    ")"
   ]
  },
  {
   "cell_type": "code",
   "execution_count": 5,
   "metadata": {},
   "outputs": [
    {
     "data": {
      "text/plain": [
       "array([[4],\n",
       "       [0]])"
      ]
     },
     "execution_count": 5,
     "metadata": {},
     "output_type": "execute_result"
    }
   ],
   "source": [
    "B[1 : 3, 1 : 2]"
   ]
  },
  {
   "cell_type": "code",
   "execution_count": 11,
   "metadata": {},
   "outputs": [
    {
     "data": {
      "text/plain": [
       "array([[14, 18, 10],\n",
       "       [14, 13, 13]])"
      ]
     },
     "execution_count": 11,
     "metadata": {},
     "output_type": "execute_result"
    }
   ],
   "source": [
    "def dot_vec (v1, v2):\n",
    "    \"\"\"\n",
    "    Returns the dot product of two vectors.\n",
    "    \"\"\"\n",
    "    return sum([a * b for a, b in zip(v1, v2)])\n",
    "\n",
    "\n",
    "def dot(m1, m2):\n",
    "    \"\"\"\n",
    "    Returns the dot product of two matrices.\n",
    "    \"\"\"\n",
    "    res = np.zeros((m1.shape[0], m2.shape[1]), dtype = int)\n",
    "    for i in range(m1.shape[0]): \n",
    "        for j in range(m2.shape[1]):\n",
    "            res[i, j] = dot_vec(m1[i], m2.T[j])\n",
    "    return res\n",
    "\n",
    "A = np.array(\n",
    "    [\n",
    "        [4, 1, 0, 2],\n",
    "        [2, 0, 1, 3]\n",
    "    ]\n",
    ")\n",
    "B = np.array(\n",
    "    [\n",
    "        [3, 2, 0],\n",
    "        [0, 4, 2],\n",
    "        [5, 0, 1],\n",
    "        [1, 3, 4]\n",
    "    ]\n",
    ")\n",
    "\n",
    "dot(A, B)"
   ]
  },
  {
   "cell_type": "code",
   "execution_count": 7,
   "metadata": {},
   "outputs": [],
   "source": [
    "data = np.array(\n",
    "    [\n",
    "        [1, 17, 9],\n",
    "        [2, 21, 10],\n",
    "        [3, 12, 17]\n",
    "    ]\n",
    ")"
   ]
  },
  {
   "cell_type": "code",
   "execution_count": 8,
   "metadata": {},
   "outputs": [
    {
     "data": {
      "text/plain": [
       "array([[26],\n",
       "       [31],\n",
       "       [29]])"
      ]
     },
     "execution_count": 8,
     "metadata": {},
     "output_type": "execute_result"
    }
   ],
   "source": [
    "def transform(data):\n",
    "    return np.dot(data, np.array([[0], [1], [1]]))\n",
    "\n",
    "transform(data)"
   ]
  },
  {
   "cell_type": "code",
   "execution_count": 15,
   "metadata": {},
   "outputs": [
    {
     "data": {
      "text/plain": [
       "array([13., 34., 33.])"
      ]
     },
     "execution_count": 15,
     "metadata": {},
     "output_type": "execute_result"
    }
   ],
   "source": [
    "data_dimensions = data [0 :, 1 : 3]\n",
    "def hyp(data, theta, theta_zero):\n",
    "    data_modded = np.append(data, np.ones(((data.shape[0], 1))), axis = 1)\n",
    "    theta_modded = np.append(theta, theta_zero)\n",
    "    return np.dot(data_modded, theta_modded)\n",
    "\n",
    "\n",
    "hyp(data_dimensions, np.array([4, 5]), -100)"
   ]
  }
 ],
 "metadata": {
  "interpreter": {
   "hash": "0a10e5ae12d6e7b14b9a3c5ea75d6bb84ef6a3a35926aa93321436627619946d"
  },
  "kernelspec": {
   "display_name": "Python 3.9.6 64-bit",
   "language": "python",
   "name": "python3"
  },
  "language_info": {
   "codemirror_mode": {
    "name": "ipython",
    "version": 3
   },
   "file_extension": ".py",
   "mimetype": "text/x-python",
   "name": "python",
   "nbconvert_exporter": "python",
   "pygments_lexer": "ipython3",
   "version": "3.9.6"
  },
  "orig_nbformat": 4
 },
 "nbformat": 4,
 "nbformat_minor": 2
}
