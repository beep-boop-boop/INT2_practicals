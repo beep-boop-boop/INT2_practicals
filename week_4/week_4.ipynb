{
 "cells": [
  {
   "cell_type": "code",
   "execution_count": 10,
   "metadata": {},
   "outputs": [],
   "source": [
    "import numpy as np\n",
    "import matplotlib.pyplot as plt"
   ]
  },
  {
   "cell_type": "code",
   "execution_count": 11,
   "metadata": {},
   "outputs": [],
   "source": [
    "def sign(num):\n",
    "    if num == 0:\n",
    "        return 0\n",
    "    else:\n",
    "        return num / abs(num)"
   ]
  },
  {
   "cell_type": "code",
   "execution_count": 12,
   "metadata": {},
   "outputs": [],
   "source": [
    "def linear_classify(x, theta, theta_0):\n",
    "    \"\"\"Uses the given theta, theta_0, to linearly classify the given data x. This is our hypothesis or hypothesis class.\n",
    "\n",
    "    :param x:\n",
    "    :param theta:\n",
    "    :param theta_0:\n",
    "    :return: 1 if the given x is classified as positive, -1 if it is negative, and 0 if it lies on the hyperplane.\n",
    "    \"\"\"\n",
    "    # Todo: Implement the linear classifier here that classifies x given theta, theta_0, and returns the result.\n",
    "    res = np.dot(theta.T, x)[0] + theta_0\n",
    "    return sign(res)\n"
   ]
  },
  {
   "cell_type": "code",
   "execution_count": 13,
   "metadata": {},
   "outputs": [],
   "source": [
    "def Loss(prediction, actual):\n",
    "    \"\"\"Computes the loss between the given prediction and actual values.\n",
    "\n",
    "    :param prediction:\n",
    "    :param actual:\n",
    "    :return: 2 if prediction is wrong, 0 if prediction is correct\n",
    "    \"\"\"\n",
    "    # Todo: Implement the loss between a predicted and actual value here, and return the loss.\n",
    "    return abs(prediction - actual) # if prediction is correct, returns 0, else returns 2\n"
   ]
  },
  {
   "cell_type": "code",
   "execution_count": 14,
   "metadata": {},
   "outputs": [],
   "source": [
    "def E_n(h, data, labels, L, theta, theta_0):\n",
    "    \"\"\"Computes the error for the given data using the given hypothesis and loss.\n",
    "\n",
    "    :param h: Hypothesis class, for example a linear classifier.\n",
    "    :param data: A d x n matrix where d is the number of data dimensions and n the number of examples.\n",
    "    :param labels: A 1 x n matrix with the label (actual value) for each data point.\n",
    "    :param L: A loss function to compute the error between the prediction and label.\n",
    "    :param theta:\n",
    "    :param theta_0:\n",
    "    :return:\n",
    "    \"\"\"\n",
    "    # Todo: Compute the training loss E_n here and return it.\n",
    "    predictions = [linear_classify(x, theta, theta_0) for x in data.T] # turning the data sideways so that each entry has 1 x n dimensions\n",
    "    loss_sum = np.sum([L(label, prediction) for label, prediction in zip(labels, predictions)])\n",
    "    return loss_sum / data.shape[1]\n"
   ]
  },
  {
   "cell_type": "code",
   "execution_count": 15,
   "metadata": {},
   "outputs": [],
   "source": [
    "def random_linear_classifier(data, labels, params={}, hook=None):\n",
    "    \"\"\"\n",
    "\n",
    "    :param data: A d x n matrix where d is the number of data dimensions and n the number of examples.\n",
    "    :param labels: A 1 x n matrix with the label (actual value) for each data point.\n",
    "    :param params: A dict, containing a key k, which is a positive integer number of steps to run\n",
    "    :param hook: An optional hook function that is called in each iteration of the algorithm.\n",
    "    :return:\n",
    "    \"\"\"\n",
    "    k = params.get('k', 100)  # if k is not in params, default to 100\n",
    "    (d, n) = data.shape\n",
    "    # Todo: Implement the Random Linear Classifier learning algorithm here.\n",
    "    # Note: To call the hook function, use the following line inside your training loop:\n",
    "    #if hook: hook((theta, theta_0))\n",
    "    smallest_error = np.inf\n",
    "    theta_best = np.zeros((d, 1))\n",
    "    theta_zero_best = 0\n",
    "    for _ in range(k):\n",
    "        theta = np.random.uniform(-20, 20, (d, 1))\n",
    "        theta_0 = np.random.randint(-20, 20)\n",
    "        #print(E_n(None, data, labels, Loss, theta, theta_0))\n",
    "        if hook: hook((theta, theta_0))\n",
    "        if E_n(None, data, labels, Loss, theta, theta_0) < smallest_error:\n",
    "            theta_best = np.copy(theta)\n",
    "            theta_zero_best = np.copy(theta_0)\n",
    "            smallest_error = E_n(None, data, labels, Loss, theta_best, theta_zero_best)\n",
    "    return theta_best, theta_zero_best, E_n(None, data, labels, Loss, theta_best, theta_zero_best)"
   ]
  },
  {
   "cell_type": "code",
   "execution_count": 16,
   "metadata": {},
   "outputs": [],
   "source": [
    "def perceptron(data, labels, params={}, hook=None):\n",
    "    \"\"\"The Perceptron learning algorithm.\n",
    "\n",
    "    :param data: A d x n matrix where d is the number of data dimensions and n the number of examples.\n",
    "    :param labels: A 1 x n matrix with the label (actual value) for each data point.\n",
    "    :param params: A dict, containing a key T, which is a positive integer number of steps to run\n",
    "    :param hook: An optional hook function that is called in each iteration of the algorithm.\n",
    "    :return:\n",
    "    \"\"\"\n",
    "    T = params.get('T', 100)  # if T is not in params, default to 100\n",
    "    (d, n) = data.shape\n",
    "    theta = np.zeros((d, 1))\n",
    "    #theta_0 = 0\n",
    "    for _ in range(T):\n",
    "        if hook : hook((theta, theta_0))\n",
    "        for index, entry in enumerate(data.T):\n",
    "            if labels[index] * linear_classify(entry, theta, theta_0) <= 0:\n",
    "                theta = np.add(theta, (labels[index] * entry.reshape(d, 1)))\n",
    "                #theta_0 += labels[index]\n",
    "    return theta, theta_0"
   ]
  },
  {
   "cell_type": "code",
   "execution_count": 17,
   "metadata": {},
   "outputs": [],
   "source": [
    "def plot_separator(plot_axes, theta, theta_0):\n",
    "    \"\"\"Plots the linear separator defined by theta, theta_0, into the given plot_axes.\n",
    "\n",
    "    :param plot_axes: Matplotlib Axes object\n",
    "    :param theta:\n",
    "    :param theta_0:\n",
    "    \"\"\"\n",
    "\n",
    "    # One way we can plot the intercept is to compute the parametric line equation from the implicit form.\n",
    "    # compute the y-intercept by setting x1 = 0 and then solving for x2:\n",
    "    y_intercept = -theta_0 / theta[1]\n",
    "    # compute the slope (-theta[0]/theta[1], I think)\n",
    "    slope = -theta[0] / theta[1]\n",
    "    # Then compute two points using:\n",
    "    xmin, xmax = -15, 15\n",
    "    # Note: It's not ideal to only plot the lines in a fixed region, but it makes this code simple for now.\n",
    "\n",
    "    p1_y = slope * xmin + y_intercept\n",
    "    p2_y = slope * xmax + y_intercept\n",
    "\n",
    "    # Plot the separator:\n",
    "    plot_axes.plot([xmin, xmax], [p1_y.flatten(), p2_y.flatten()], '-')\n",
    "    # Plot the normal:\n",
    "    # Note: The normal might not appear perpendicular on the plot if ax.axis('equal') is not set - but it is\n",
    "    # perpendicular. Resize the plot window to equal axes to verify.\n",
    "    plot_axes.arrow((xmin + xmax) / 2, (p1_y.flatten() + p2_y.flatten()) / 2, float(theta[0]), float(theta[1]))"
   ]
  },
  {
   "cell_type": "code",
   "execution_count": 19,
   "metadata": {},
   "outputs": [
    {
     "name": "stdout",
     "output_type": "stream",
     "text": [
      "[[-1.]\n",
      " [ 3.]] 0\n",
      "Finished.\n"
     ]
    },
    {
     "name": "stderr",
     "output_type": "stream",
     "text": [
      "<ipython-input-17-0d0baa04a3e3>:11: RuntimeWarning: invalid value encountered in true_divide\n",
      "  y_intercept = -theta_0 / theta[1]\n",
      "<ipython-input-17-0d0baa04a3e3>:13: RuntimeWarning: invalid value encountered in true_divide\n",
      "  slope = -theta[0] / theta[1]\n",
      "c:\\Users\\ivanb\\AppData\\Local\\Programs\\Python\\Python39\\lib\\site-packages\\matplotlib\\patches.py:1338: VisibleDeprecationWarning: Creating an ndarray from ragged nested sequences (which is a list-or-tuple of lists-or-tuples-or ndarrays with different lengths or shapes) is deprecated. If you meant to do this, you must specify 'dtype=object' when creating the ndarray\n",
      "  verts = np.dot(coords, M) + (x + dx, y + dy)\n"
     ]
    },
    {
     "data": {
      "image/png": "[encoded data removed]",
      "text/plain": [
       "<Figure size 432x288 with 1 Axes>"
      ]
     },
     "metadata": {
      "needs_background": "light"
     },
     "output_type": "display_data"
    }
   ],
   "source": [
    "# Let's create some training data and labels:\n",
    "#   X is a d x n matrix where d is the number of data dimensions and n the number of examples. So each data point\n",
    "#     is a column vector.\n",
    "#   y is a 1 x n matrix with the label (actual value) for each data point.\n",
    "X = np.array([\n",
    "    [2, 0, -1],\n",
    "    [0, 2, -1],\n",
    "    ])\n",
    "y = np.array([-1, 1, -1])\n",
    "\n",
    "# To test your algorithm on a larger dataset, uncomment the following code. It generates uniformly distributed\n",
    "# random data in 2D, along with their labels.\n",
    "#X = np.random.uniform(low=-10, high=10, size=(2, 20))  # d=2, n=20\n",
    "#y = np.sign(np.dot(np.transpose([[3], [4]]), X) + 6)[0]  # theta=[3, 4], theta_0=6\n",
    "\n",
    "# Plot positive data green, negative data red:\n",
    "colors = np.choose(y > 0, np.transpose(np.array(['r', 'g']))).flatten()\n",
    "plt.ion()  # enable matplotlib interactive mode\n",
    "fig, ax = plt.subplots()  # create an empty plot and retrieve the 'ax' handle\n",
    "ax.scatter(X[0, :], X[1, :], c=colors, marker='o')\n",
    "# Set up a pretty 2D plot:\n",
    "ax.set_xlabel('x1')\n",
    "ax.set_ylabel('x2')\n",
    "ax.set_xlim(-20, 20)\n",
    "ax.set_ylim(-20, 20)\n",
    "ax.grid(True, which='both')\n",
    "ax.axhline(color='black', linewidth=0.5)\n",
    "ax.axvline(color='black', linewidth=0.5)\n",
    "ax.set_title(\"Linear classification\")\n",
    "\n",
    "\n",
    "# We'll define a hook function that we'll use to plot the separator at each step of the learning algorithm:\n",
    "def hook(params):\n",
    "    (th, th0) = params\n",
    "    plot_separator(ax, th, th0)\n",
    "\n",
    "\n",
    "# Run the RLC or Perceptron: (uncomment the following lines to call the learning algorithms)\n",
    "#theta, theta_0, error = random_linear_classifier(X, y, {\"k\": 10}, hook = None)\n",
    "theta, theta_0 = perceptron(X, y, {\"T\": 10}, hook=None)\n",
    "# Plot the returned separator:\n",
    "plot_separator(ax, theta, theta_0)\n",
    "print(theta, theta_0)\n",
    "#print(theta, theta_0, E_n(None, X, y, Loss, theta, theta_0))\n",
    "\n",
    "# Run the RLC, plot E_n over various k:\n",
    "# Todo: Your code\n",
    "def plot_RLC(ks, iterations):\n",
    "    \"\"\"\n",
    "    Plots the error by a linear classificator over Ks different values of k and taking an average of a given number of iterations.\n",
    "    Args:\n",
    "        ks - the range of values of k\n",
    "        iterations - the number of iterations per value of k\n",
    "    \"\"\"\n",
    "    errors = []\n",
    "    for n in range(1, ks):\n",
    "        avg_error = 0\n",
    "        for _ in range (iterations):\n",
    "            theta, theta_0, error = random_linear_classifier(X, y, {\"k\": n}, hook = None)\n",
    "            avg_error += error\n",
    "        errors.append(avg_error/10)\n",
    "    plt.plot(list(range(1, ks)), errors)\n",
    "\n",
    "print(\"Finished.\")"
   ]
  }
 ],
 "metadata": {
  "interpreter": {
   "hash": "3b79c34c0bc451fa60e640cef16a699410f160f3627e84908fe4a419d6ecde43"
  },
  "kernelspec": {
   "display_name": "Python 3.9.6 64-bit",
   "language": "python",
   "name": "python3"
  },
  "language_info": {
   "codemirror_mode": {
    "name": "ipython",
    "version": 3
   },
   "file_extension": ".py",
   "mimetype": "text/x-python",
   "name": "python",
   "nbconvert_exporter": "python",
   "pygments_lexer": "ipython3",
   "version": "3.9.6"
  },
  "orig_nbformat": 4
 },
 "nbformat": 4,
 "nbformat_minor": 2
}
